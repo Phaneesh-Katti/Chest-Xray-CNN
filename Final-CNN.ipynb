{
  "nbformat": 4,
  "nbformat_minor": 0,
  "metadata": {
    "accelerator": "GPU",
    "colab": {
      "name": "Copy of Week-3(TL).ipynb",
      "provenance": [],
      "collapsed_sections": [],
      "include_colab_link": true
    },
    "kernelspec": {
      "display_name": "Python 3",
      "name": "python3"
    }
  },
  "cells": [
    {
      "cell_type": "markdown",
      "metadata": {
        "id": "view-in-github",
        "colab_type": "text"
      },
      "source": [
        "<a href=\"https://colab.research.google.com/github/Phaneesh-Katti/Chest-Xray-CNN/blob/main/Final-CNN.ipynb\" target=\"_parent\"><img src=\"https://colab.research.google.com/assets/colab-badge.svg\" alt=\"Open In Colab\"/></a>"
      ]
    },
    {
      "cell_type": "markdown",
      "metadata": {
        "id": "-WuZqySaU4ic"
      },
      "source": [
        "# Setting up Kaggle\r\n",
        "\r\n"
      ]
    },
    {
      "cell_type": "code",
      "metadata": {
        "colab": {
          "base_uri": "https://localhost:8080/"
        },
        "id": "fKfEgcNh81CN",
        "outputId": "84769dcb-1004-46b9-e906-566ecb9e053a"
      },
      "source": [
        "! pip install --upgrade --force-reinstall --no-deps kaggle"
      ],
      "execution_count": null,
      "outputs": [
        {
          "output_type": "stream",
          "text": [
            "Collecting kaggle\n",
            "\u001b[?25l  Downloading https://files.pythonhosted.org/packages/3a/e7/3bac01547d2ed3d308ac92a0878fbdb0ed0f3d41fb1906c319ccbba1bfbc/kaggle-1.5.12.tar.gz (58kB)\n",
            "\r\u001b[K     |█████▋                          | 10kB 16.3MB/s eta 0:00:01\r\u001b[K     |███████████▏                    | 20kB 9.5MB/s eta 0:00:01\r\u001b[K     |████████████████▊               | 30kB 7.5MB/s eta 0:00:01\r\u001b[K     |██████████████████████▎         | 40kB 6.8MB/s eta 0:00:01\r\u001b[K     |███████████████████████████▉    | 51kB 4.0MB/s eta 0:00:01\r\u001b[K     |████████████████████████████████| 61kB 2.8MB/s \n",
            "\u001b[?25hBuilding wheels for collected packages: kaggle\n",
            "  Building wheel for kaggle (setup.py) ... \u001b[?25l\u001b[?25hdone\n",
            "  Created wheel for kaggle: filename=kaggle-1.5.12-cp37-none-any.whl size=73053 sha256=bfd81fa8174a21ea7720f86f14f61790da4f371a732074e54fbdffe97d00b881\n",
            "  Stored in directory: /root/.cache/pip/wheels/a1/6a/26/d30b7499ff85a4a4593377a87ecf55f7d08af42f0de9b60303\n",
            "Successfully built kaggle\n",
            "Installing collected packages: kaggle\n",
            "  Found existing installation: kaggle 1.5.10\n",
            "    Uninstalling kaggle-1.5.10:\n",
            "      Successfully uninstalled kaggle-1.5.10\n",
            "Successfully installed kaggle-1.5.12\n"
          ],
          "name": "stdout"
        }
      ]
    },
    {
      "cell_type": "code",
      "metadata": {
        "colab": {
          "resources": {
            "http://localhost:8080/nbextensions/google.colab/files.js": {
              "data": "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",
              "ok": true,
              "headers": [
                [
                  "content-type",
                  "application/javascript"
                ]
              ],
              "status": 200,
              "status_text": ""
            }
          },
          "base_uri": "https://localhost:8080/",
          "height": 91
        },
        "id": "v0Wte-iq-Mmy",
        "outputId": "14e6ac80-8f30-4330-987b-9861a9150553"
      },
      "source": [
        "from google.colab import files\r\n",
        "files.upload()"
      ],
      "execution_count": null,
      "outputs": [
        {
          "output_type": "display_data",
          "data": {
            "text/html": [
              "\n",
              "     <input type=\"file\" id=\"files-6db00a46-fdf8-4459-89ae-166b4ac50eb9\" name=\"files[]\" multiple disabled\n",
              "        style=\"border:none\" />\n",
              "     <output id=\"result-6db00a46-fdf8-4459-89ae-166b4ac50eb9\">\n",
              "      Upload widget is only available when the cell has been executed in the\n",
              "      current browser session. Please rerun this cell to enable.\n",
              "      </output>\n",
              "      <script src=\"/nbextensions/google.colab/files.js\"></script> "
            ],
            "text/plain": [
              "<IPython.core.display.HTML object>"
            ]
          },
          "metadata": {
            "tags": []
          }
        },
        {
          "output_type": "stream",
          "text": [
            "Saving kaggle.json to kaggle.json\n"
          ],
          "name": "stdout"
        },
        {
          "output_type": "execute_result",
          "data": {
            "text/plain": [
              "{'kaggle.json': b'{\"username\":\"phaneeshkatti\",\"key\":\"0031f5dbca97db0c1f6b67a3510f07ad\"}'}"
            ]
          },
          "metadata": {
            "tags": []
          },
          "execution_count": 2
        }
      ]
    },
    {
      "cell_type": "code",
      "metadata": {
        "id": "GwK6FtHd-mAV"
      },
      "source": [
        "! mkdir ~/.kaggle\r\n",
        "! cp kaggle.json ~/.kaggle/ "
      ],
      "execution_count": null,
      "outputs": []
    },
    {
      "cell_type": "code",
      "metadata": {
        "id": "dbkh2Fzv31gN"
      },
      "source": [
        "! chmod 600 ~/.kaggle/kaggle.json"
      ],
      "execution_count": null,
      "outputs": []
    },
    {
      "cell_type": "code",
      "metadata": {
        "id": "aro7ipmMWUFR"
      },
      "source": [
        "! kaggle datasets list"
      ],
      "execution_count": null,
      "outputs": []
    },
    {
      "cell_type": "code",
      "metadata": {
        "colab": {
          "base_uri": "https://localhost:8080/"
        },
        "id": "9jbrDHdXWqIV",
        "outputId": "6473b050-f8ec-4fba-9cbe-9676f45c678c"
      },
      "source": [
        "! kaggle datasets download -d paultimothymooney/chest-xray-pneumonia"
      ],
      "execution_count": null,
      "outputs": [
        {
          "output_type": "stream",
          "text": [
            "Downloading chest-xray-pneumonia.zip to /content\n",
            " 99% 2.28G/2.29G [00:28<00:00, 125MB/s]\n",
            "100% 2.29G/2.29G [00:28<00:00, 85.7MB/s]\n"
          ],
          "name": "stdout"
        }
      ]
    },
    {
      "cell_type": "code",
      "metadata": {
        "id": "KcYTitCwX_DR"
      },
      "source": [
        "!unzip chest-xray-pneumonia.zip -d dataset"
      ],
      "execution_count": null,
      "outputs": []
    },
    {
      "cell_type": "markdown",
      "metadata": {
        "id": "XQIrvZVpah6y"
      },
      "source": [
        "# CNN Model without Transfer Learning (TL) or Data Augmentation (DA)\r\n",
        "\r\n",
        "\r\n",
        "\r\n",
        "\r\n"
      ]
    },
    {
      "cell_type": "code",
      "metadata": {
        "id": "wqyytEg_aopG"
      },
      "source": [
        "from tensorflow as tf\r\n",
        "import matplotlib.pyplot as plt\r\n",
        "import numpy as np"
      ],
      "execution_count": null,
      "outputs": []
    },
    {
      "cell_type": "code",
      "metadata": {
        "id": "CZuykO3ibOzZ"
      },
      "source": [
        "training_path = \"/content/dataset/chest_xray/chest_xray/train\"\r\n",
        "testing_path = \"/content/dataset/chest_xray/chest_xray/test\""
      ],
      "execution_count": null,
      "outputs": []
    },
    {
      "cell_type": "code",
      "metadata": {
        "colab": {
          "base_uri": "https://localhost:8080/"
        },
        "id": "ntRij9_sgJaC",
        "outputId": "b30d0228-6de9-40d9-d5c8-8174c7524127"
      },
      "source": [
        "train_dataset = tf.keras.preprocessing.image_dataset_from_directory(\r\n",
        "    training_path,\r\n",
        "    image_size = (200,200),\r\n",
        "    batch_size = 32\r\n",
        ")"
      ],
      "execution_count": null,
      "outputs": [
        {
          "output_type": "stream",
          "text": [
            "Found 5216 files belonging to 2 classes.\n"
          ],
          "name": "stdout"
        }
      ]
    },
    {
      "cell_type": "code",
      "metadata": {
        "colab": {
          "base_uri": "https://localhost:8080/"
        },
        "id": "H7FVHTQ2hFm6",
        "outputId": "d5f59e3b-7199-4e21-8c06-dbb1563b7ea2"
      },
      "source": [
        "test_dataset = tf.keras.preprocessing.image_dataset_from_directory(\r\n",
        "    testing_path,\r\n",
        "    image_size = (200,200),\r\n",
        "    batch_size = 32\r\n",
        ")"
      ],
      "execution_count": null,
      "outputs": [
        {
          "output_type": "stream",
          "text": [
            "Found 624 files belonging to 2 classes.\n"
          ],
          "name": "stdout"
        }
      ]
    },
    {
      "cell_type": "code",
      "metadata": {
        "id": "UUXZxINehIFu"
      },
      "source": [
        "model = tf.keras.models.Sequential()\r\n",
        "\r\n",
        "# Feature Extraction part\r\n",
        "model.add(tf.keras.layers.Conv2D(32, (3,3), activation='relu', input_shape=(200, 200, 3)))\r\n",
        "model.add(tf.keras.layers.MaxPool2D(2,2))\r\n",
        "model.add(tf.keras.layers.Conv2D(64, (3, 3), activation= 'relu'))\r\n",
        "model.add(tf.keras.layers.MaxPool2D(2,2))\r\n",
        "model.add(tf.keras.layers.Conv2D(64, (3, 3), activation= 'relu'))\r\n",
        "\r\n",
        "# Neural Network - For classification\r\n",
        "model.add(tf.keras.layers.Flatten())\r\n",
        "model.add(tf.keras.layers.Dense(32, activation='relu'))\r\n",
        "model.add(tf.keras.layers.Dense(64, activation='relu'))\r\n",
        "model.add(tf.keras.layers.Dense(2, activation='softmax'))"
      ],
      "execution_count": null,
      "outputs": []
    },
    {
      "cell_type": "code",
      "metadata": {
        "id": "qm7K4EFqhSoY"
      },
      "source": [
        "model.compile(optimizer='adam',\r\n",
        "                 loss=tf.keras.losses.SparseCategoricalCrossentropy(from_logits=True),\r\n",
        "                 metrics = ['accuracy'])"
      ],
      "execution_count": null,
      "outputs": []
    },
    {
      "cell_type": "code",
      "metadata": {
        "id": "0G--tdt4jj3w"
      },
      "source": [
        "history = model.fit(train_dataset, validation_data=test_dataset, epochs = 30)"
      ],
      "execution_count": null,
      "outputs": []
    },
    {
      "cell_type": "code",
      "metadata": {
        "colab": {
          "base_uri": "https://localhost:8080/",
          "height": 295
        },
        "id": "JAaO-zYNjutk",
        "outputId": "e8605c33-e74f-4fe0-de26-71313b83878c"
      },
      "source": [
        "plt.plot(history.history['accuracy'])\r\n",
        "plt.plot(history.history['val_accuracy'])\r\n",
        "plt.title('Simple CNN')\r\n",
        "plt.xlabel('epoch')\r\n",
        "plt.ylabel('accuracy')\r\n",
        "plt.ylim([0,1])\r\n",
        "plt.legend(['train', 'test'], loc='upper left')\r\n",
        "plt.show()"
      ],
      "execution_count": null,
      "outputs": [
        {
          "output_type": "display_data",
          "data": {
            "image/png": "[encoded data removed]",
            "text/plain": [
              "<Figure size 432x288 with 1 Axes>"
            ]
          },
          "metadata": {
            "tags": [],
            "needs_background": "light"
          }
        }
      ]
    },
    {
      "cell_type": "markdown",
      "metadata": {
        "id": "3PgOQ5maquPd"
      },
      "source": [
        "# Data Augmentation\r\n"
      ]
    },
    {
      "cell_type": "code",
      "metadata": {
        "id": "fBfhyMZlmOcD"
      },
      "source": [
        "#ImageDataGenerator\r\n",
        "dataGen = tf.keras.preprocessing.image.ImageDataGenerator(\r\n",
        "    rescale = 1./255,\r\n",
        "    width_shift_range=0.3,\r\n",
        "    height_shift_range=0.3,\r\n",
        "    zoom_range=[0.5,1.5],\r\n",
        ")"
      ],
      "execution_count": null,
      "outputs": []
    },
    {
      "cell_type": "code",
      "metadata": {
        "colab": {
          "base_uri": "https://localhost:8080/"
        },
        "id": "bla7ywhvq71p",
        "outputId": "9783398b-b23d-41b5-d271-7da9673fea82"
      },
      "source": [
        "train_dataset_aug = dataGen.flow_from_directory(\r\n",
        "    training_path,\r\n",
        "    target_size = (200,200),\r\n",
        "    batch_size = 32,\r\n",
        "    shuffle=True,\r\n",
        "    seed = 420\r\n",
        ")"
      ],
      "execution_count": null,
      "outputs": [
        {
          "output_type": "stream",
          "text": [
            "Found 5216 images belonging to 2 classes.\n"
          ],
          "name": "stdout"
        }
      ]
    },
    {
      "cell_type": "code",
      "metadata": {
        "colab": {
          "base_uri": "https://localhost:8080/"
        },
        "id": "ylKBmMm3rCXB",
        "outputId": "06feb0fa-1201-455f-886e-36b485e906ee"
      },
      "source": [
        "test_dataset_aug = dataGen.flow_from_directory(\r\n",
        "    testing_path,\r\n",
        "    target_size = (200,200),\r\n",
        "    batch_size = 32,\r\n",
        "    shuffle=True,\r\n",
        "    seed = 420\r\n",
        ")"
      ],
      "execution_count": null,
      "outputs": [
        {
          "output_type": "stream",
          "text": [
            "Found 624 images belonging to 2 classes.\n"
          ],
          "name": "stdout"
        }
      ]
    },
    {
      "cell_type": "code",
      "metadata": {
        "id": "x0AuXR__rHhu"
      },
      "source": [
        "DAmodel = tf.keras.models.Sequential()\r\n",
        "\r\n",
        "# Feature extraction part\r\n",
        "DAmodel.add(tf.keras.layers.Conv2D(32, (3,3), activation='relu', input_shape=(200,200,3)))\r\n",
        "DAmodel.add(tf.keras.layers.MaxPooling2D((2,2)))\r\n",
        "DAmodel.add(tf.keras.layers.Conv2D(64, (3,3), activation='relu'))\r\n",
        "DAmodel.add(tf.keras.layers.MaxPooling2D((2,2)))\r\n",
        "DAmodel.add(tf.keras.layers.Conv2D(64,(3,3), activation='relu'))\r\n",
        "\r\n",
        "# Neural network - For classification\r\n",
        "DAmodel.add(tf.keras.layers.Flatten())\r\n",
        "DAmodel.add(tf.keras.layers.Dense(32, activation='relu'))\r\n",
        "DAmodel.add(tf.keras.layers.Dense(64, activation='relu'))\r\n",
        "DAmodel.add(tf.keras.layers.Dense(2, activation='softmax'))\r\n",
        "\r\n",
        "#Compile\r\n",
        "DAmodel.compile(optimizer = 'adam',\r\n",
        "                loss='categorical_crossentropy',metrics = ['accuracy'])"
      ],
      "execution_count": null,
      "outputs": []
    },
    {
      "cell_type": "code",
      "metadata": {
        "colab": {
          "base_uri": "https://localhost:8080/"
        },
        "id": "5MiqmguIrL4C",
        "outputId": "ad880b14-cb3d-473d-c337-adb302dd1562"
      },
      "source": [
        "history2 = DAmodel.fit(train_dataset_aug, validation_data=test_dataset_aug, epochs = 30)"
      ],
      "execution_count": null,
      "outputs": [
        {
          "output_type": "stream",
          "text": [
            "Epoch 1/30\n",
            "163/163 [==============================] - 98s 600ms/step - loss: 0.5625 - accuracy: 0.7244 - val_loss: 0.5725 - val_accuracy: 0.7340\n",
            "Epoch 2/30\n",
            "163/163 [==============================] - 98s 603ms/step - loss: 0.4030 - accuracy: 0.8153 - val_loss: 0.6234 - val_accuracy: 0.7372\n",
            "Epoch 3/30\n",
            "163/163 [==============================] - 99s 605ms/step - loss: 0.3670 - accuracy: 0.8355 - val_loss: 0.5569 - val_accuracy: 0.7660\n",
            "Epoch 4/30\n",
            "163/163 [==============================] - 99s 610ms/step - loss: 0.3256 - accuracy: 0.8479 - val_loss: 0.7490 - val_accuracy: 0.7179\n",
            "Epoch 5/30\n",
            "163/163 [==============================] - 99s 605ms/step - loss: 0.3226 - accuracy: 0.8569 - val_loss: 0.5388 - val_accuracy: 0.8109\n",
            "Epoch 6/30\n",
            "163/163 [==============================] - 99s 609ms/step - loss: 0.2781 - accuracy: 0.8743 - val_loss: 0.6644 - val_accuracy: 0.7163\n",
            "Epoch 7/30\n",
            "163/163 [==============================] - 99s 609ms/step - loss: 0.2687 - accuracy: 0.8842 - val_loss: 0.5636 - val_accuracy: 0.7676\n",
            "Epoch 8/30\n",
            "163/163 [==============================] - 99s 608ms/step - loss: 0.2702 - accuracy: 0.8803 - val_loss: 0.4728 - val_accuracy: 0.8061\n",
            "Epoch 9/30\n",
            "163/163 [==============================] - 100s 613ms/step - loss: 0.2556 - accuracy: 0.8891 - val_loss: 0.4862 - val_accuracy: 0.7965\n",
            "Epoch 10/30\n",
            "163/163 [==============================] - 100s 614ms/step - loss: 0.2484 - accuracy: 0.8913 - val_loss: 0.4140 - val_accuracy: 0.8285\n",
            "Epoch 11/30\n",
            "163/163 [==============================] - 100s 611ms/step - loss: 0.2579 - accuracy: 0.8878 - val_loss: 0.5377 - val_accuracy: 0.7564\n",
            "Epoch 12/30\n",
            "163/163 [==============================] - 100s 616ms/step - loss: 0.2429 - accuracy: 0.8911 - val_loss: 0.6425 - val_accuracy: 0.7676\n",
            "Epoch 13/30\n",
            "163/163 [==============================] - 100s 616ms/step - loss: 0.2205 - accuracy: 0.9090 - val_loss: 0.5702 - val_accuracy: 0.7949\n",
            "Epoch 14/30\n",
            "163/163 [==============================] - 100s 613ms/step - loss: 0.2104 - accuracy: 0.9104 - val_loss: 0.4758 - val_accuracy: 0.8205\n",
            "Epoch 15/30\n",
            "163/163 [==============================] - 100s 614ms/step - loss: 0.2468 - accuracy: 0.8936 - val_loss: 0.4610 - val_accuracy: 0.7949\n",
            "Epoch 16/30\n",
            "163/163 [==============================] - 100s 613ms/step - loss: 0.2108 - accuracy: 0.9095 - val_loss: 0.5150 - val_accuracy: 0.7901\n",
            "Epoch 17/30\n",
            "163/163 [==============================] - 100s 615ms/step - loss: 0.2193 - accuracy: 0.9017 - val_loss: 0.4351 - val_accuracy: 0.8189\n",
            "Epoch 18/30\n",
            "163/163 [==============================] - 100s 615ms/step - loss: 0.2100 - accuracy: 0.9076 - val_loss: 0.4679 - val_accuracy: 0.7981\n",
            "Epoch 19/30\n",
            "163/163 [==============================] - 100s 614ms/step - loss: 0.2229 - accuracy: 0.9054 - val_loss: 0.5568 - val_accuracy: 0.8077\n",
            "Epoch 20/30\n",
            "163/163 [==============================] - 100s 614ms/step - loss: 0.2185 - accuracy: 0.9152 - val_loss: 0.4129 - val_accuracy: 0.8157\n",
            "Epoch 21/30\n",
            "163/163 [==============================] - 100s 615ms/step - loss: 0.2047 - accuracy: 0.9163 - val_loss: 0.6091 - val_accuracy: 0.7788\n",
            "Epoch 22/30\n",
            "163/163 [==============================] - 99s 605ms/step - loss: 0.1835 - accuracy: 0.9241 - val_loss: 0.4309 - val_accuracy: 0.8125\n",
            "Epoch 23/30\n",
            "163/163 [==============================] - 101s 617ms/step - loss: 0.2152 - accuracy: 0.9098 - val_loss: 0.5400 - val_accuracy: 0.8013\n",
            "Epoch 24/30\n",
            "163/163 [==============================] - 99s 606ms/step - loss: 0.1822 - accuracy: 0.9271 - val_loss: 0.5636 - val_accuracy: 0.8269\n",
            "Epoch 25/30\n",
            "163/163 [==============================] - 97s 597ms/step - loss: 0.1910 - accuracy: 0.9147 - val_loss: 0.6737 - val_accuracy: 0.7660\n",
            "Epoch 26/30\n",
            "163/163 [==============================] - 96s 591ms/step - loss: 0.1873 - accuracy: 0.9276 - val_loss: 0.4143 - val_accuracy: 0.8285\n",
            "Epoch 27/30\n",
            "163/163 [==============================] - 95s 585ms/step - loss: 0.1765 - accuracy: 0.9247 - val_loss: 0.6377 - val_accuracy: 0.7580\n",
            "Epoch 28/30\n",
            "163/163 [==============================] - 95s 584ms/step - loss: 0.1954 - accuracy: 0.9182 - val_loss: 0.5774 - val_accuracy: 0.7788\n",
            "Epoch 29/30\n",
            "163/163 [==============================] - 95s 584ms/step - loss: 0.1568 - accuracy: 0.9395 - val_loss: 0.5612 - val_accuracy: 0.7772\n",
            "Epoch 30/30\n",
            "163/163 [==============================] - 95s 582ms/step - loss: 0.1969 - accuracy: 0.9149 - val_loss: 0.6991 - val_accuracy: 0.7516\n"
          ],
          "name": "stdout"
        }
      ]
    },
    {
      "cell_type": "code",
      "metadata": {
        "colab": {
          "base_uri": "https://localhost:8080/",
          "height": 313
        },
        "id": "jZSGo_wYrUlA",
        "outputId": "008df48c-8e75-4d0a-a940-354d7f72643e"
      },
      "source": [
        "plt.plot(history2.history['accuracy'], label='accuracy')\r\n",
        "plt.plot(history2.history['val_accuracy'], label = 'val_accuracy')\r\n",
        "plt.xlabel('Epoch')\r\n",
        "plt.ylabel('Accuracy')\r\n",
        "plt.title('CNN(DA)')\r\n",
        "plt.ylim([0.65, 1])\r\n",
        "plt.legend(loc='lower right')"
      ],
      "execution_count": null,
      "outputs": [
        {
          "output_type": "execute_result",
          "data": {
            "text/plain": [
              "<matplotlib.legend.Legend at 0x7ff8a4c50a10>"
            ]
          },
          "metadata": {
            "tags": []
          },
          "execution_count": 95
        },
        {
          "output_type": "display_data",
          "data": {
            "image/png": "[encoded data removed]",
            "text/plain": [
              "<Figure size 432x288 with 1 Axes>"
            ]
          },
          "metadata": {
            "tags": []
          }
        }
      ]
    },
    {
      "cell_type": "markdown",
      "metadata": {
        "id": "H_eC1WVdLQ4G"
      },
      "source": [
        "# Tranfer Learning with data augmentation"
      ]
    },
    {
      "cell_type": "code",
      "metadata": {
        "id": "EIJyX8aYwLbt"
      },
      "source": [
        "pretrained_model = tf.keras.applications.InceptionResNetV2(input_shape=(200,200,3),\r\n",
        "                                               include_top=False,\r\n",
        "                                               weights='imagenet')"
      ],
      "execution_count": null,
      "outputs": []
    },
    {
      "cell_type": "code",
      "metadata": {
        "id": "Cs6g1H-yKHQ1"
      },
      "source": [
        "TLmodel = tf.keras.models.Sequential()\r\n",
        "\r\n",
        "TLmodel.add(pretrained_model)\r\n",
        "\r\n",
        "TLmodel.add(tf.keras.layers.GlobalAveragePooling2D())\r\n",
        "\r\n",
        "TLmodel.add(tf.keras.layers.Dense(1024, activation='relu'))\r\n",
        "TLmodel.add(tf.keras.layers.Dense(512, activation='relu'))\r\n",
        "TLmodel.add(tf.keras.layers.Dense(2, activation='softmax'))\r\n",
        "\r\n",
        "TLmodel.compile(optimizer = 'adam',\r\n",
        "              loss='categorical_crossentropy',\r\n",
        "              metrics = ['accuracy'])"
      ],
      "execution_count": null,
      "outputs": []
    },
    {
      "cell_type": "code",
      "metadata": {
        "id": "wdxa9wzf1Iw0",
        "colab": {
          "base_uri": "https://localhost:8080/"
        },
        "outputId": "69e8d193-9310-43b0-d4d0-2a868ab7800c"
      },
      "source": [
        "# With Data Augmentation\r\n",
        "history3 = TLmodel.fit(train_dataset_aug, validation_data=test_dataset_aug, epochs = 30)"
      ],
      "execution_count": null,
      "outputs": [
        {
          "output_type": "stream",
          "text": [
            "Epoch 1/30\n",
            "163/163 [==============================] - 149s 837ms/step - loss: 0.7136 - accuracy: 0.7934 - val_loss: 0.4837 - val_accuracy: 0.7772\n",
            "Epoch 2/30\n",
            "163/163 [==============================] - 132s 810ms/step - loss: 0.3382 - accuracy: 0.8457 - val_loss: 0.4227 - val_accuracy: 0.8269\n",
            "Epoch 3/30\n",
            "163/163 [==============================] - 132s 808ms/step - loss: 0.2454 - accuracy: 0.8950 - val_loss: 0.4340 - val_accuracy: 0.8077\n",
            "Epoch 4/30\n",
            "163/163 [==============================] - 132s 809ms/step - loss: 0.2237 - accuracy: 0.9099 - val_loss: 0.5482 - val_accuracy: 0.7901\n",
            "Epoch 5/30\n",
            "163/163 [==============================] - 132s 807ms/step - loss: 0.2498 - accuracy: 0.8974 - val_loss: 0.4055 - val_accuracy: 0.8365\n",
            "Epoch 6/30\n",
            "163/163 [==============================] - 132s 806ms/step - loss: 0.2298 - accuracy: 0.9052 - val_loss: 0.3898 - val_accuracy: 0.8301\n",
            "Epoch 7/30\n",
            "163/163 [==============================] - 132s 807ms/step - loss: 0.2100 - accuracy: 0.9084 - val_loss: 0.8642 - val_accuracy: 0.7196\n",
            "Epoch 8/30\n",
            "163/163 [==============================] - 132s 807ms/step - loss: 0.2090 - accuracy: 0.9122 - val_loss: 0.5823 - val_accuracy: 0.7772\n",
            "Epoch 9/30\n",
            "163/163 [==============================] - 132s 808ms/step - loss: 0.2191 - accuracy: 0.9016 - val_loss: 0.7912 - val_accuracy: 0.7372\n",
            "Epoch 10/30\n",
            "163/163 [==============================] - 132s 807ms/step - loss: 0.1948 - accuracy: 0.9134 - val_loss: 0.5664 - val_accuracy: 0.8093\n",
            "Epoch 11/30\n",
            "163/163 [==============================] - 132s 806ms/step - loss: 0.1904 - accuracy: 0.9219 - val_loss: 0.5791 - val_accuracy: 0.7676\n",
            "Epoch 12/30\n",
            "163/163 [==============================] - 132s 808ms/step - loss: 0.2090 - accuracy: 0.9177 - val_loss: 0.3820 - val_accuracy: 0.8542\n",
            "Epoch 13/30\n",
            "163/163 [==============================] - 132s 807ms/step - loss: 0.1775 - accuracy: 0.9262 - val_loss: 0.5203 - val_accuracy: 0.7965\n",
            "Epoch 14/30\n",
            "163/163 [==============================] - 132s 808ms/step - loss: 0.1943 - accuracy: 0.9224 - val_loss: 0.4998 - val_accuracy: 0.8157\n",
            "Epoch 15/30\n",
            "163/163 [==============================] - 131s 805ms/step - loss: 0.2005 - accuracy: 0.9160 - val_loss: 0.5161 - val_accuracy: 0.8141\n",
            "Epoch 16/30\n",
            "163/163 [==============================] - 131s 805ms/step - loss: 0.1854 - accuracy: 0.9286 - val_loss: 0.3703 - val_accuracy: 0.8494\n",
            "Epoch 17/30\n",
            "163/163 [==============================] - 131s 805ms/step - loss: 0.1985 - accuracy: 0.9216 - val_loss: 0.4792 - val_accuracy: 0.8077\n",
            "Epoch 18/30\n",
            "163/163 [==============================] - 131s 805ms/step - loss: 0.1834 - accuracy: 0.9276 - val_loss: 0.4230 - val_accuracy: 0.8333\n",
            "Epoch 19/30\n",
            "163/163 [==============================] - 131s 806ms/step - loss: 0.1841 - accuracy: 0.9268 - val_loss: 0.4889 - val_accuracy: 0.7965\n",
            "Epoch 20/30\n",
            "163/163 [==============================] - 131s 805ms/step - loss: 0.1805 - accuracy: 0.9307 - val_loss: 0.5377 - val_accuracy: 0.8077\n",
            "Epoch 21/30\n",
            "163/163 [==============================] - 131s 803ms/step - loss: 0.1911 - accuracy: 0.9228 - val_loss: 0.3879 - val_accuracy: 0.8478\n",
            "Epoch 22/30\n",
            "163/163 [==============================] - 131s 802ms/step - loss: 0.1852 - accuracy: 0.9156 - val_loss: 0.5308 - val_accuracy: 0.8237\n",
            "Epoch 23/30\n",
            "163/163 [==============================] - 131s 804ms/step - loss: 0.1775 - accuracy: 0.9282 - val_loss: 0.3820 - val_accuracy: 0.8558\n",
            "Epoch 24/30\n",
            "163/163 [==============================] - 131s 805ms/step - loss: 0.1886 - accuracy: 0.9162 - val_loss: 0.7534 - val_accuracy: 0.7756\n",
            "Epoch 25/30\n",
            "163/163 [==============================] - 131s 801ms/step - loss: 0.1816 - accuracy: 0.9319 - val_loss: 0.4606 - val_accuracy: 0.8157\n",
            "Epoch 26/30\n",
            "163/163 [==============================] - 131s 800ms/step - loss: 0.1803 - accuracy: 0.9259 - val_loss: 0.3640 - val_accuracy: 0.8494\n",
            "Epoch 27/30\n",
            "163/163 [==============================] - 130s 800ms/step - loss: 0.1714 - accuracy: 0.9338 - val_loss: 0.5445 - val_accuracy: 0.7949\n",
            "Epoch 28/30\n",
            "163/163 [==============================] - 131s 803ms/step - loss: 0.1698 - accuracy: 0.9332 - val_loss: 0.5533 - val_accuracy: 0.8093\n",
            "Epoch 29/30\n",
            "163/163 [==============================] - 131s 800ms/step - loss: 0.1760 - accuracy: 0.9290 - val_loss: 0.4219 - val_accuracy: 0.8365\n",
            "Epoch 30/30\n",
            "163/163 [==============================] - 131s 801ms/step - loss: 0.1605 - accuracy: 0.9376 - val_loss: 0.5981 - val_accuracy: 0.8013\n"
          ],
          "name": "stdout"
        }
      ]
    },
    {
      "cell_type": "code",
      "metadata": {
        "id": "v7Fe8K-hx0Tv",
        "colab": {
          "base_uri": "https://localhost:8080/",
          "height": 301
        },
        "outputId": "e1d8f086-8bf1-497c-dec6-fcc8c05674d1"
      },
      "source": [
        "plt.plot(history3.history['accuracy'], label='accuracy')\r\n",
        "plt.plot(history3.history['val_accuracy'], label = 'val_accuracy')\r\n",
        "plt.xlabel('Epoch')\r\n",
        "plt.ylabel('CNN(TL + DA)')\r\n",
        "plt.ylim([0.75, 1])\r\n",
        "plt.legend(loc='lower right')"
      ],
      "execution_count": null,
      "outputs": [
        {
          "output_type": "execute_result",
          "data": {
            "text/plain": [
              "<matplotlib.legend.Legend at 0x7f5a35c096d0>"
            ]
          },
          "metadata": {
            "tags": []
          },
          "execution_count": 33
        },
        {
          "output_type": "display_data",
          "data": {
            "image/png": "[encoded data removed]",
            "text/plain": [
              "<Figure size 432x288 with 1 Axes>"
            ]
          },
          "metadata": {
            "tags": [],
            "needs_background": "light"
          }
        }
      ]
    }
  ]
}